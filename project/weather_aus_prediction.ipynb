{
 "cells": [
  {
   "cell_type": "markdown",
   "metadata": {},
   "source": [
    "# Import modules"
   ]
  },
  {
   "cell_type": "code",
   "execution_count": 1,
   "metadata": {},
   "outputs": [],
   "source": [
    "import pyspark.sql.functions as F\n",
    "import pandas as pd\n",
    "import warnings\n",
    "warnings.filterwarnings('ignore')\n",
    "\n",
    "from pyspark.sql import SparkSession\n",
    "from pyspark.sql.types import DoubleType\n",
    "from pyspark.ml.feature import VectorAssembler, OneHotEncoder, StringIndexer\n",
    "from pyspark.ml import Pipeline\n",
    "from pyspark.ml.classification import LogisticRegression, RandomForestClassifier, DecisionTreeClassifier, GBTClassifier, MultilayerPerceptronClassifier\n",
    "from pyspark.ml.evaluation import BinaryClassificationEvaluator"
   ]
  },
  {
   "cell_type": "code",
   "execution_count": 2,
   "metadata": {},
   "outputs": [],
   "source": [
    "# initialize the session\n",
    "spark = SparkSession.builder.appName('Weather_AUS').getOrCreate()"
   ]
  },
  {
   "cell_type": "markdown",
   "metadata": {},
   "source": [
    "# Load dataset"
   ]
  },
  {
   "cell_type": "code",
   "execution_count": 3,
   "metadata": {},
   "outputs": [
    {
     "name": "stdout",
     "output_type": "stream",
     "text": [
      "+----------+--------+-------+-------+--------+-----------+--------+-----------+-------------+----------+----------+------------+------------+-----------+-----------+-----------+-----------+--------+--------+-------+-------+---------+------------+\n",
      "|      Date|Location|MinTemp|MaxTemp|Rainfall|Evaporation|Sunshine|WindGustDir|WindGustSpeed|WindDir9am|WindDir3pm|WindSpeed9am|WindSpeed3pm|Humidity9am|Humidity3pm|Pressure9am|Pressure3pm|Cloud9am|Cloud3pm|Temp9am|Temp3pm|RainToday|RainTomorrow|\n",
      "+----------+--------+-------+-------+--------+-----------+--------+-----------+-------------+----------+----------+------------+------------+-----------+-----------+-----------+-----------+--------+--------+-------+-------+---------+------------+\n",
      "|2008-12-01|  Albury|   13.4|   22.9|     0.6|         NA|      NA|          W|           44|         W|       WNW|          20|          24|         71|         22|     1007.7|     1007.1|       8|      NA|   16.9|   21.8|       No|          No|\n",
      "|2008-12-02|  Albury|    7.4|   25.1|       0|         NA|      NA|        WNW|           44|       NNW|       WSW|           4|          22|         44|         25|     1010.6|     1007.8|      NA|      NA|   17.2|   24.3|       No|          No|\n",
      "|2008-12-03|  Albury|   12.9|   25.7|       0|         NA|      NA|        WSW|           46|         W|       WSW|          19|          26|         38|         30|     1007.6|     1008.7|      NA|       2|     21|   23.2|       No|          No|\n",
      "|2008-12-04|  Albury|    9.2|     28|       0|         NA|      NA|         NE|           24|        SE|         E|          11|           9|         45|         16|     1017.6|     1012.8|      NA|      NA|   18.1|   26.5|       No|          No|\n",
      "|2008-12-05|  Albury|   17.5|   32.3|       1|         NA|      NA|          W|           41|       ENE|        NW|           7|          20|         82|         33|     1010.8|       1006|       7|       8|   17.8|   29.7|       No|          No|\n",
      "+----------+--------+-------+-------+--------+-----------+--------+-----------+-------------+----------+----------+------------+------------+-----------+-----------+-----------+-----------+--------+--------+-------+-------+---------+------------+\n",
      "only showing top 5 rows\n",
      "\n"
     ]
    }
   ],
   "source": [
    "df = spark.read.csv('weatherAUS.csv', header=True, sep=',',inferSchema=True)\n",
    "df.show(5)"
   ]
  },
  {
   "cell_type": "code",
   "execution_count": 4,
   "metadata": {},
   "outputs": [
    {
     "name": "stdout",
     "output_type": "stream",
     "text": [
      "root\n",
      " |-- Date: date (nullable = true)\n",
      " |-- Location: string (nullable = true)\n",
      " |-- MinTemp: string (nullable = true)\n",
      " |-- MaxTemp: string (nullable = true)\n",
      " |-- Rainfall: string (nullable = true)\n",
      " |-- Evaporation: string (nullable = true)\n",
      " |-- Sunshine: string (nullable = true)\n",
      " |-- WindGustDir: string (nullable = true)\n",
      " |-- WindGustSpeed: string (nullable = true)\n",
      " |-- WindDir9am: string (nullable = true)\n",
      " |-- WindDir3pm: string (nullable = true)\n",
      " |-- WindSpeed9am: string (nullable = true)\n",
      " |-- WindSpeed3pm: string (nullable = true)\n",
      " |-- Humidity9am: string (nullable = true)\n",
      " |-- Humidity3pm: string (nullable = true)\n",
      " |-- Pressure9am: string (nullable = true)\n",
      " |-- Pressure3pm: string (nullable = true)\n",
      " |-- Cloud9am: string (nullable = true)\n",
      " |-- Cloud3pm: string (nullable = true)\n",
      " |-- Temp9am: string (nullable = true)\n",
      " |-- Temp3pm: string (nullable = true)\n",
      " |-- RainToday: string (nullable = true)\n",
      " |-- RainTomorrow: string (nullable = true)\n",
      "\n"
     ]
    }
   ],
   "source": [
    "df.printSchema()"
   ]
  },
  {
   "cell_type": "code",
   "execution_count": 5,
   "metadata": {},
   "outputs": [
    {
     "data": {
      "text/plain": [
       "[('Date', 'date'),\n",
       " ('Location', 'string'),\n",
       " ('MinTemp', 'string'),\n",
       " ('MaxTemp', 'string'),\n",
       " ('Rainfall', 'string'),\n",
       " ('Evaporation', 'string'),\n",
       " ('Sunshine', 'string'),\n",
       " ('WindGustDir', 'string'),\n",
       " ('WindGustSpeed', 'string'),\n",
       " ('WindDir9am', 'string'),\n",
       " ('WindDir3pm', 'string'),\n",
       " ('WindSpeed9am', 'string'),\n",
       " ('WindSpeed3pm', 'string'),\n",
       " ('Humidity9am', 'string'),\n",
       " ('Humidity3pm', 'string'),\n",
       " ('Pressure9am', 'string'),\n",
       " ('Pressure3pm', 'string'),\n",
       " ('Cloud9am', 'string'),\n",
       " ('Cloud3pm', 'string'),\n",
       " ('Temp9am', 'string'),\n",
       " ('Temp3pm', 'string'),\n",
       " ('RainToday', 'string'),\n",
       " ('RainTomorrow', 'string')]"
      ]
     },
     "execution_count": 5,
     "metadata": {},
     "output_type": "execute_result"
    }
   ],
   "source": [
    "df.dtypes"
   ]
  },
  {
   "cell_type": "code",
   "execution_count": 6,
   "metadata": {},
   "outputs": [
    {
     "data": {
      "text/html": [
       "<div>\n",
       "<style scoped>\n",
       "    .dataframe tbody tr th:only-of-type {\n",
       "        vertical-align: middle;\n",
       "    }\n",
       "\n",
       "    .dataframe tbody tr th {\n",
       "        vertical-align: top;\n",
       "    }\n",
       "\n",
       "    .dataframe thead th {\n",
       "        text-align: right;\n",
       "    }\n",
       "</style>\n",
       "<table border=\"1\" class=\"dataframe\">\n",
       "  <thead>\n",
       "    <tr style=\"text-align: right;\">\n",
       "      <th></th>\n",
       "      <th>Date</th>\n",
       "      <th>Location</th>\n",
       "      <th>MinTemp</th>\n",
       "      <th>MaxTemp</th>\n",
       "      <th>Rainfall</th>\n",
       "      <th>Evaporation</th>\n",
       "      <th>Sunshine</th>\n",
       "      <th>WindGustDir</th>\n",
       "      <th>WindGustSpeed</th>\n",
       "      <th>WindDir9am</th>\n",
       "      <th>...</th>\n",
       "      <th>Humidity9am</th>\n",
       "      <th>Humidity3pm</th>\n",
       "      <th>Pressure9am</th>\n",
       "      <th>Pressure3pm</th>\n",
       "      <th>Cloud9am</th>\n",
       "      <th>Cloud3pm</th>\n",
       "      <th>Temp9am</th>\n",
       "      <th>Temp3pm</th>\n",
       "      <th>RainToday</th>\n",
       "      <th>RainTomorrow</th>\n",
       "    </tr>\n",
       "  </thead>\n",
       "  <tbody>\n",
       "    <tr>\n",
       "      <th>0</th>\n",
       "      <td>2008-12-01</td>\n",
       "      <td>Albury</td>\n",
       "      <td>13.4</td>\n",
       "      <td>22.9</td>\n",
       "      <td>0.6</td>\n",
       "      <td>NA</td>\n",
       "      <td>NA</td>\n",
       "      <td>W</td>\n",
       "      <td>44</td>\n",
       "      <td>W</td>\n",
       "      <td>...</td>\n",
       "      <td>71</td>\n",
       "      <td>22</td>\n",
       "      <td>1007.7</td>\n",
       "      <td>1007.1</td>\n",
       "      <td>8</td>\n",
       "      <td>NA</td>\n",
       "      <td>16.9</td>\n",
       "      <td>21.8</td>\n",
       "      <td>No</td>\n",
       "      <td>No</td>\n",
       "    </tr>\n",
       "    <tr>\n",
       "      <th>1</th>\n",
       "      <td>2008-12-02</td>\n",
       "      <td>Albury</td>\n",
       "      <td>7.4</td>\n",
       "      <td>25.1</td>\n",
       "      <td>0</td>\n",
       "      <td>NA</td>\n",
       "      <td>NA</td>\n",
       "      <td>WNW</td>\n",
       "      <td>44</td>\n",
       "      <td>NNW</td>\n",
       "      <td>...</td>\n",
       "      <td>44</td>\n",
       "      <td>25</td>\n",
       "      <td>1010.6</td>\n",
       "      <td>1007.8</td>\n",
       "      <td>NA</td>\n",
       "      <td>NA</td>\n",
       "      <td>17.2</td>\n",
       "      <td>24.3</td>\n",
       "      <td>No</td>\n",
       "      <td>No</td>\n",
       "    </tr>\n",
       "    <tr>\n",
       "      <th>2</th>\n",
       "      <td>2008-12-03</td>\n",
       "      <td>Albury</td>\n",
       "      <td>12.9</td>\n",
       "      <td>25.7</td>\n",
       "      <td>0</td>\n",
       "      <td>NA</td>\n",
       "      <td>NA</td>\n",
       "      <td>WSW</td>\n",
       "      <td>46</td>\n",
       "      <td>W</td>\n",
       "      <td>...</td>\n",
       "      <td>38</td>\n",
       "      <td>30</td>\n",
       "      <td>1007.6</td>\n",
       "      <td>1008.7</td>\n",
       "      <td>NA</td>\n",
       "      <td>2</td>\n",
       "      <td>21</td>\n",
       "      <td>23.2</td>\n",
       "      <td>No</td>\n",
       "      <td>No</td>\n",
       "    </tr>\n",
       "    <tr>\n",
       "      <th>3</th>\n",
       "      <td>2008-12-04</td>\n",
       "      <td>Albury</td>\n",
       "      <td>9.2</td>\n",
       "      <td>28</td>\n",
       "      <td>0</td>\n",
       "      <td>NA</td>\n",
       "      <td>NA</td>\n",
       "      <td>NE</td>\n",
       "      <td>24</td>\n",
       "      <td>SE</td>\n",
       "      <td>...</td>\n",
       "      <td>45</td>\n",
       "      <td>16</td>\n",
       "      <td>1017.6</td>\n",
       "      <td>1012.8</td>\n",
       "      <td>NA</td>\n",
       "      <td>NA</td>\n",
       "      <td>18.1</td>\n",
       "      <td>26.5</td>\n",
       "      <td>No</td>\n",
       "      <td>No</td>\n",
       "    </tr>\n",
       "    <tr>\n",
       "      <th>4</th>\n",
       "      <td>2008-12-05</td>\n",
       "      <td>Albury</td>\n",
       "      <td>17.5</td>\n",
       "      <td>32.3</td>\n",
       "      <td>1</td>\n",
       "      <td>NA</td>\n",
       "      <td>NA</td>\n",
       "      <td>W</td>\n",
       "      <td>41</td>\n",
       "      <td>ENE</td>\n",
       "      <td>...</td>\n",
       "      <td>82</td>\n",
       "      <td>33</td>\n",
       "      <td>1010.8</td>\n",
       "      <td>1006</td>\n",
       "      <td>7</td>\n",
       "      <td>8</td>\n",
       "      <td>17.8</td>\n",
       "      <td>29.7</td>\n",
       "      <td>No</td>\n",
       "      <td>No</td>\n",
       "    </tr>\n",
       "  </tbody>\n",
       "</table>\n",
       "<p>5 rows × 23 columns</p>\n",
       "</div>"
      ],
      "text/plain": [
       "         Date Location MinTemp MaxTemp Rainfall Evaporation Sunshine  \\\n",
       "0  2008-12-01   Albury    13.4    22.9      0.6          NA       NA   \n",
       "1  2008-12-02   Albury     7.4    25.1        0          NA       NA   \n",
       "2  2008-12-03   Albury    12.9    25.7        0          NA       NA   \n",
       "3  2008-12-04   Albury     9.2      28        0          NA       NA   \n",
       "4  2008-12-05   Albury    17.5    32.3        1          NA       NA   \n",
       "\n",
       "  WindGustDir WindGustSpeed WindDir9am  ... Humidity9am Humidity3pm  \\\n",
       "0           W            44          W  ...          71          22   \n",
       "1         WNW            44        NNW  ...          44          25   \n",
       "2         WSW            46          W  ...          38          30   \n",
       "3          NE            24         SE  ...          45          16   \n",
       "4           W            41        ENE  ...          82          33   \n",
       "\n",
       "  Pressure9am Pressure3pm Cloud9am Cloud3pm Temp9am Temp3pm RainToday  \\\n",
       "0      1007.7      1007.1        8       NA    16.9    21.8        No   \n",
       "1      1010.6      1007.8       NA       NA    17.2    24.3        No   \n",
       "2      1007.6      1008.7       NA        2      21    23.2        No   \n",
       "3      1017.6      1012.8       NA       NA    18.1    26.5        No   \n",
       "4      1010.8        1006        7        8    17.8    29.7        No   \n",
       "\n",
       "  RainTomorrow  \n",
       "0           No  \n",
       "1           No  \n",
       "2           No  \n",
       "3           No  \n",
       "4           No  \n",
       "\n",
       "[5 rows x 23 columns]"
      ]
     },
     "execution_count": 6,
     "metadata": {},
     "output_type": "execute_result"
    }
   ],
   "source": [
    "# convert spark dataframe to pandas\n",
    "# --> to use pandas specific operations and libraries for further analysis and processing\n",
    "pandas_df = df.toPandas()\n",
    "pandas_df.head(5)"
   ]
  },
  {
   "cell_type": "markdown",
   "metadata": {},
   "source": [
    "# Data analysis \n"
   ]
  },
  {
   "cell_type": "code",
   "execution_count": 7,
   "metadata": {},
   "outputs": [
    {
     "name": "stdout",
     "output_type": "stream",
     "text": [
      "Number of records:  145460\n"
     ]
    }
   ],
   "source": [
    "print('Number of records: ', df.count())"
   ]
  },
  {
   "cell_type": "code",
   "execution_count": 8,
   "metadata": {},
   "outputs": [
    {
     "name": "stdout",
     "output_type": "stream",
     "text": [
      "+----+--------+-------+-------+--------+-----------+--------+-----------+-------------+----------+----------+------------+------------+-----------+-----------+-----------+-----------+--------+--------+-------+-------+---------+------------+\n",
      "|Date|Location|MinTemp|MaxTemp|Rainfall|Evaporation|Sunshine|WindGustDir|WindGustSpeed|WindDir9am|WindDir3pm|WindSpeed9am|WindSpeed3pm|Humidity9am|Humidity3pm|Pressure9am|Pressure3pm|Cloud9am|Cloud3pm|Temp9am|Temp3pm|RainToday|RainTomorrow|\n",
      "+----+--------+-------+-------+--------+-----------+--------+-----------+-------------+----------+----------+------------+------------+-----------+-----------+-----------+-----------+--------+--------+-------+-------+---------+------------+\n",
      "|3436|      49|    390|    506|     682|        359|     146|         17|           68|        17|        17|          44|          45|        102|        102|        547|        550|      11|      11|    442|    503|        3|           3|\n",
      "+----+--------+-------+-------+--------+-----------+--------+-----------+-------------+----------+----------+------------+------------+-----------+-----------+-----------+-----------+--------+--------+-------+-------+---------+------------+\n",
      "\n"
     ]
    }
   ],
   "source": [
    "# Count unique values\n",
    "unique_counts = df.select([F.col(c) for c in df.columns])\n",
    "unique_counts_summary = unique_counts.agg(*[F.countDistinct(F.col(c)).alias(c) for c in df.columns])\n",
    "unique_counts_summary.show()"
   ]
  },
  {
   "cell_type": "code",
   "execution_count": 9,
   "metadata": {},
   "outputs": [
    {
     "name": "stdout",
     "output_type": "stream",
     "text": [
      "+--------+-----+\n",
      "|Rainfall|count|\n",
      "+--------+-----+\n",
      "|       0|91080|\n",
      "|     0.2| 8761|\n",
      "|     0.4| 3782|\n",
      "|      NA| 3261|\n",
      "|     0.6| 2592|\n",
      "|     0.8| 2056|\n",
      "|       1| 1759|\n",
      "|     1.2| 1535|\n",
      "|     1.4| 1377|\n",
      "|     1.6| 1200|\n",
      "|     1.8| 1104|\n",
      "|       2| 1037|\n",
      "|     2.2|  986|\n",
      "|     2.4|  844|\n",
      "|     2.6|  841|\n",
      "|     2.8|  727|\n",
      "|       3|  712|\n",
      "|     3.2|  669|\n",
      "|     3.4|  605|\n",
      "|     3.8|  598|\n",
      "+--------+-----+\n",
      "only showing top 20 rows\n",
      "\n"
     ]
    }
   ],
   "source": [
    "# Rainfall analysis\n",
    "df.groupBy(\"Rainfall\").count().orderBy(\"count\", ascending=False).show()"
   ]
  },
  {
   "cell_type": "code",
   "execution_count": 10,
   "metadata": {},
   "outputs": [
    {
     "name": "stdout",
     "output_type": "stream",
     "text": [
      "+-----------+-----+\n",
      "|Evaporation|count|\n",
      "+-----------+-----+\n",
      "|         NA|62790|\n",
      "|          4| 3339|\n",
      "|          8| 2609|\n",
      "|        2.2| 2095|\n",
      "|          2| 2032|\n",
      "|        2.6| 2003|\n",
      "|        2.4| 2003|\n",
      "|        1.8| 1979|\n",
      "|          3| 1973|\n",
      "|        3.4| 1967|\n",
      "|        3.2| 1956|\n",
      "|        2.8| 1921|\n",
      "|        1.6| 1861|\n",
      "|        3.6| 1844|\n",
      "|        3.8| 1825|\n",
      "|          5| 1784|\n",
      "|        1.4| 1758|\n",
      "|        5.4| 1688|\n",
      "|        1.2| 1679|\n",
      "|          6| 1673|\n",
      "+-----------+-----+\n",
      "only showing top 20 rows\n",
      "\n"
     ]
    }
   ],
   "source": [
    "# Evaporation analysis\n",
    "df.groupBy(\"Evaporation\").count().orderBy(\"count\", ascending=False).show()"
   ]
  },
  {
   "cell_type": "code",
   "execution_count": 11,
   "metadata": {},
   "outputs": [
    {
     "name": "stdout",
     "output_type": "stream",
     "text": [
      "+--------+-----+\n",
      "|Sunshine|count|\n",
      "+--------+-----+\n",
      "|      NA|69835|\n",
      "|       0| 2359|\n",
      "|    10.7| 1101|\n",
      "|      11| 1094|\n",
      "|    10.8| 1069|\n",
      "|    10.5| 1027|\n",
      "|    10.9| 1021|\n",
      "|    10.3| 1010|\n",
      "|    10.2|  993|\n",
      "|      10|  984|\n",
      "|    11.1|  978|\n",
      "|    10.6|  971|\n",
      "|    10.4|  969|\n",
      "|     9.8|  967|\n",
      "|    10.1|  949|\n",
      "|     9.2|  925|\n",
      "|    11.2|  909|\n",
      "|     9.9|  897|\n",
      "|     9.5|  866|\n",
      "|     9.6|  859|\n",
      "+--------+-----+\n",
      "only showing top 20 rows\n",
      "\n"
     ]
    }
   ],
   "source": [
    "# Sunshine analysis\n",
    "df.groupBy(\"Sunshine\").count().orderBy(\"count\", ascending=False).show()"
   ]
  },
  {
   "cell_type": "code",
   "execution_count": 12,
   "metadata": {},
   "outputs": [
    {
     "name": "stdout",
     "output_type": "stream",
     "text": [
      "+---------+------+\n",
      "|RainToday| count|\n",
      "+---------+------+\n",
      "|       No|110319|\n",
      "|      Yes| 31880|\n",
      "|       NA|  3261|\n",
      "+---------+------+\n",
      "\n"
     ]
    }
   ],
   "source": [
    "# RainToday analysis\n",
    "df.groupBy(\"RainToday\").count().orderBy(\"count\", ascending=False).show()"
   ]
  },
  {
   "cell_type": "code",
   "execution_count": 13,
   "metadata": {},
   "outputs": [
    {
     "name": "stdout",
     "output_type": "stream",
     "text": [
      "+------------+------+\n",
      "|RainTomorrow| count|\n",
      "+------------+------+\n",
      "|          No|110316|\n",
      "|         Yes| 31877|\n",
      "|          NA|  3267|\n",
      "+------------+------+\n",
      "\n"
     ]
    }
   ],
   "source": [
    "# RainTomorrow analysis\n",
    "df.groupBy(\"RainTomorrow\").count().orderBy(\"count\", ascending=False).show()"
   ]
  },
  {
   "cell_type": "code",
   "execution_count": 14,
   "metadata": {},
   "outputs": [
    {
     "name": "stdout",
     "output_type": "stream",
     "text": [
      "+----+--------+-------+-------+--------+-----------+--------+-----------+-------------+----------+----------+------------+------------+-----------+-----------+-----------+-----------+--------+--------+-------+-------+---------+------------+\n",
      "|Date|Location|MinTemp|MaxTemp|Rainfall|Evaporation|Sunshine|WindGustDir|WindGustSpeed|WindDir9am|WindDir3pm|WindSpeed9am|WindSpeed3pm|Humidity9am|Humidity3pm|Pressure9am|Pressure3pm|Cloud9am|Cloud3pm|Temp9am|Temp3pm|RainToday|RainTomorrow|\n",
      "+----+--------+-------+-------+--------+-----------+--------+-----------+-------------+----------+----------+------------+------------+-----------+-----------+-----------+-----------+--------+--------+-------+-------+---------+------------+\n",
      "|   0|       0|   1485|   1261|    3261|      62790|   69835|      10326|        10263|     10566|      4228|        1767|        3062|       2654|       4507|      15065|      15028|   55888|   59358|   1767|   3609|     3261|        3267|\n",
      "+----+--------+-------+-------+--------+-----------+--------+-----------+-------------+----------+----------+------------+------------+-----------+-----------+-----------+-----------+--------+--------+-------+-------+---------+------------+\n",
      "\n"
     ]
    }
   ],
   "source": [
    "# Display NA values\n",
    "df.select([F.count(F.when(F.col(c) == 'NA', c)).alias(c) for c in df.columns]).show()"
   ]
  },
  {
   "cell_type": "markdown",
   "metadata": {},
   "source": [
    "# Perform SQL Operations"
   ]
  },
  {
   "cell_type": "code",
   "execution_count": 15,
   "metadata": {},
   "outputs": [],
   "source": [
    "df.createOrReplaceTempView('table')"
   ]
  },
  {
   "cell_type": "code",
   "execution_count": 16,
   "metadata": {},
   "outputs": [
    {
     "name": "stdout",
     "output_type": "stream",
     "text": [
      "+----------+--------+-------+-------+--------+-----------+--------+-----------+-------------+----------+----------+------------+------------+-----------+-----------+-----------+-----------+--------+--------+-------+-------+---------+------------+\n",
      "|      Date|Location|MinTemp|MaxTemp|Rainfall|Evaporation|Sunshine|WindGustDir|WindGustSpeed|WindDir9am|WindDir3pm|WindSpeed9am|WindSpeed3pm|Humidity9am|Humidity3pm|Pressure9am|Pressure3pm|Cloud9am|Cloud3pm|Temp9am|Temp3pm|RainToday|RainTomorrow|\n",
      "+----------+--------+-------+-------+--------+-----------+--------+-----------+-------------+----------+----------+------------+------------+-----------+-----------+-----------+-----------+--------+--------+-------+-------+---------+------------+\n",
      "|2008-12-01|  Albury|   13.4|   22.9|     0.6|         NA|      NA|          W|           44|         W|       WNW|          20|          24|         71|         22|     1007.7|     1007.1|       8|      NA|   16.9|   21.8|       No|          No|\n",
      "|2008-12-02|  Albury|    7.4|   25.1|       0|         NA|      NA|        WNW|           44|       NNW|       WSW|           4|          22|         44|         25|     1010.6|     1007.8|      NA|      NA|   17.2|   24.3|       No|          No|\n",
      "|2008-12-03|  Albury|   12.9|   25.7|       0|         NA|      NA|        WSW|           46|         W|       WSW|          19|          26|         38|         30|     1007.6|     1008.7|      NA|       2|     21|   23.2|       No|          No|\n",
      "|2008-12-04|  Albury|    9.2|     28|       0|         NA|      NA|         NE|           24|        SE|         E|          11|           9|         45|         16|     1017.6|     1012.8|      NA|      NA|   18.1|   26.5|       No|          No|\n",
      "|2008-12-05|  Albury|   17.5|   32.3|       1|         NA|      NA|          W|           41|       ENE|        NW|           7|          20|         82|         33|     1010.8|       1006|       7|       8|   17.8|   29.7|       No|          No|\n",
      "+----------+--------+-------+-------+--------+-----------+--------+-----------+-------------+----------+----------+------------+------------+-----------+-----------+-----------+-----------+--------+--------+-------+-------+---------+------------+\n",
      "\n"
     ]
    }
   ],
   "source": [
    "spark.sql(\"select * from table limit 5\").show()"
   ]
  },
  {
   "cell_type": "code",
   "execution_count": 17,
   "metadata": {},
   "outputs": [
    {
     "name": "stdout",
     "output_type": "stream",
     "text": [
      "+-----------------+---------------------+--------------------+--------------------+---------------------+------------------------+---------------------+------------------------+--------------------------+-----------------------+-----------------------+-------------------------+-------------------------+------------------------+------------------------+------------------------+------------------------+---------------------+---------------------+--------------------+--------------------+----------------------+-------------------------+\n",
      "|Date_unique_count|Location_unique_count|MinTemp_unique_count|MaxTemp_unique_count|Rainfall_unique_count|Evaporation_unique_count|Sunshine_unique_count|WindGustDir_unique_count|WindGustSpeed_unique_count|WindDir9am_unique_count|WindDir3pm_unique_count|WindSpeed9am_unique_count|WindSpeed3pm_unique_count|Humidity9am_unique_count|Humidity3pm_unique_count|Pressure9am_unique_count|Pressure3pm_unique_count|Cloud9am_unique_count|Cloud3pm_unique_count|Temp9am_unique_count|Temp3pm_unique_count|RainToday_unique_count|RainTomorrow_unique_count|\n",
      "+-----------------+---------------------+--------------------+--------------------+---------------------+------------------------+---------------------+------------------------+--------------------------+-----------------------+-----------------------+-------------------------+-------------------------+------------------------+------------------------+------------------------+------------------------+---------------------+---------------------+--------------------+--------------------+----------------------+-------------------------+\n",
      "|             3436|                   49|                 390|                 506|                  682|                     359|                  146|                      17|                        68|                     17|                     17|                       44|                       45|                     102|                     102|                     547|                     550|                   11|                   11|                 442|                 503|                     3|                        3|\n",
      "+-----------------+---------------------+--------------------+--------------------+---------------------+------------------------+---------------------+------------------------+--------------------------+-----------------------+-----------------------+-------------------------+-------------------------+------------------------+------------------------+------------------------+------------------------+---------------------+---------------------+--------------------+--------------------+----------------------+-------------------------+\n",
      "\n"
     ]
    }
   ],
   "source": [
    "# Count unique values\n",
    "unique_counts_query = \", \".join([f\"COUNT(DISTINCT `{c}`) AS `{c}_unique_count`\" for c in df.columns])\n",
    "final_unique_query = f\"SELECT {unique_counts_query} FROM table\"\n",
    "spark.sql(final_unique_query).show()"
   ]
  },
  {
   "cell_type": "code",
   "execution_count": 18,
   "metadata": {},
   "outputs": [
    {
     "name": "stdout",
     "output_type": "stream",
     "text": [
      "+--------+-----+\n",
      "|Rainfall|count|\n",
      "+--------+-----+\n",
      "|       0|91080|\n",
      "|     0.2| 8761|\n",
      "|     0.4| 3782|\n",
      "|      NA| 3261|\n",
      "|     0.6| 2592|\n",
      "|     0.8| 2056|\n",
      "|       1| 1759|\n",
      "|     1.2| 1535|\n",
      "|     1.4| 1377|\n",
      "|     1.6| 1200|\n",
      "|     1.8| 1104|\n",
      "|       2| 1037|\n",
      "|     2.2|  986|\n",
      "|     2.4|  844|\n",
      "|     2.6|  841|\n",
      "|     2.8|  727|\n",
      "|       3|  712|\n",
      "|     3.2|  669|\n",
      "|     3.4|  605|\n",
      "|     3.8|  598|\n",
      "+--------+-----+\n",
      "only showing top 20 rows\n",
      "\n"
     ]
    }
   ],
   "source": [
    "# Rainfall analysis\n",
    "spark.sql(\"SELECT Rainfall, COUNT(*) AS count FROM table GROUP BY Rainfall ORDER BY count DESC\").show()"
   ]
  },
  {
   "cell_type": "code",
   "execution_count": 19,
   "metadata": {},
   "outputs": [
    {
     "name": "stdout",
     "output_type": "stream",
     "text": [
      "+-----------+-----+\n",
      "|Evaporation|count|\n",
      "+-----------+-----+\n",
      "|         NA|62790|\n",
      "|          4| 3339|\n",
      "|          8| 2609|\n",
      "|        2.2| 2095|\n",
      "|          2| 2032|\n",
      "|        2.6| 2003|\n",
      "|        2.4| 2003|\n",
      "|        1.8| 1979|\n",
      "|          3| 1973|\n",
      "|        3.4| 1967|\n",
      "|        3.2| 1956|\n",
      "|        2.8| 1921|\n",
      "|        1.6| 1861|\n",
      "|        3.6| 1844|\n",
      "|        3.8| 1825|\n",
      "|          5| 1784|\n",
      "|        1.4| 1758|\n",
      "|        5.4| 1688|\n",
      "|        1.2| 1679|\n",
      "|          6| 1673|\n",
      "+-----------+-----+\n",
      "only showing top 20 rows\n",
      "\n"
     ]
    }
   ],
   "source": [
    "# Evaporation analysis\n",
    "spark.sql(\"SELECT Evaporation, COUNT(*) AS count FROM table GROUP BY Evaporation ORDER BY count DESC\").show()\n"
   ]
  },
  {
   "cell_type": "code",
   "execution_count": 20,
   "metadata": {},
   "outputs": [
    {
     "name": "stdout",
     "output_type": "stream",
     "text": [
      "+--------+-----+\n",
      "|Sunshine|count|\n",
      "+--------+-----+\n",
      "|      NA|69835|\n",
      "|       0| 2359|\n",
      "|    10.7| 1101|\n",
      "|      11| 1094|\n",
      "|    10.8| 1069|\n",
      "|    10.5| 1027|\n",
      "|    10.9| 1021|\n",
      "|    10.3| 1010|\n",
      "|    10.2|  993|\n",
      "|      10|  984|\n",
      "|    11.1|  978|\n",
      "|    10.6|  971|\n",
      "|    10.4|  969|\n",
      "|     9.8|  967|\n",
      "|    10.1|  949|\n",
      "|     9.2|  925|\n",
      "|    11.2|  909|\n",
      "|     9.9|  897|\n",
      "|     9.5|  866|\n",
      "|     9.6|  859|\n",
      "+--------+-----+\n",
      "only showing top 20 rows\n",
      "\n"
     ]
    }
   ],
   "source": [
    "# Sunshine analysis\n",
    "spark.sql(\"SELECT Sunshine, COUNT(*) AS count FROM table GROUP BY Sunshine ORDER BY count DESC\").show()\n"
   ]
  },
  {
   "cell_type": "code",
   "execution_count": 21,
   "metadata": {},
   "outputs": [
    {
     "name": "stdout",
     "output_type": "stream",
     "text": [
      "+---------+------+\n",
      "|RainToday| count|\n",
      "+---------+------+\n",
      "|       No|110319|\n",
      "|      Yes| 31880|\n",
      "|       NA|  3261|\n",
      "+---------+------+\n",
      "\n"
     ]
    }
   ],
   "source": [
    "# RainToday analysis\n",
    "spark.sql(\"SELECT RainToday, COUNT(*) AS count FROM table GROUP BY RainToday ORDER BY count DESC\").show()\n"
   ]
  },
  {
   "cell_type": "code",
   "execution_count": 22,
   "metadata": {},
   "outputs": [
    {
     "name": "stdout",
     "output_type": "stream",
     "text": [
      "+------------+------+\n",
      "|RainTomorrow| count|\n",
      "+------------+------+\n",
      "|          No|110316|\n",
      "|         Yes| 31877|\n",
      "|          NA|  3267|\n",
      "+------------+------+\n",
      "\n"
     ]
    }
   ],
   "source": [
    "# RainTomorrow analysis\n",
    "spark.sql(\"SELECT RainTomorrow, COUNT(*) AS count FROM table GROUP BY RainTomorrow ORDER BY count DESC\").show()\n"
   ]
  },
  {
   "cell_type": "code",
   "execution_count": 23,
   "metadata": {},
   "outputs": [
    {
     "name": "stdout",
     "output_type": "stream",
     "text": [
      "+-------------+-----------------+----------------+----------------+-----------------+--------------------+-----------------+--------------------+----------------------+-------------------+-------------------+---------------------+---------------------+--------------------+--------------------+--------------------+--------------------+-----------------+-----------------+----------------+----------------+------------------+---------------------+\n",
      "|Date_na_count|Location_na_count|MinTemp_na_count|MaxTemp_na_count|Rainfall_na_count|Evaporation_na_count|Sunshine_na_count|WindGustDir_na_count|WindGustSpeed_na_count|WindDir9am_na_count|WindDir3pm_na_count|WindSpeed9am_na_count|WindSpeed3pm_na_count|Humidity9am_na_count|Humidity3pm_na_count|Pressure9am_na_count|Pressure3pm_na_count|Cloud9am_na_count|Cloud3pm_na_count|Temp9am_na_count|Temp3pm_na_count|RainToday_na_count|RainTomorrow_na_count|\n",
      "+-------------+-----------------+----------------+----------------+-----------------+--------------------+-----------------+--------------------+----------------------+-------------------+-------------------+---------------------+---------------------+--------------------+--------------------+--------------------+--------------------+-----------------+-----------------+----------------+----------------+------------------+---------------------+\n",
      "|            0|                0|            1485|            1261|             3261|               62790|            69835|               10326|                 10263|              10566|               4228|                 1767|                 3062|                2654|                4507|               15065|               15028|            55888|            59358|            1767|            3609|              3261|                 3267|\n",
      "+-------------+-----------------+----------------+----------------+-----------------+--------------------+-----------------+--------------------+----------------------+-------------------+-------------------+---------------------+---------------------+--------------------+--------------------+--------------------+--------------------+-----------------+-----------------+----------------+----------------+------------------+---------------------+\n",
      "\n"
     ]
    }
   ],
   "source": [
    "# Count NA values\n",
    "na_counts_query = \", \".join([f\"SUM(CASE WHEN `{c}` = 'NA' THEN 1 ELSE 0 END) AS `{c}_na_count`\" for c in df.columns])\n",
    "final_query = f\"SELECT {na_counts_query} FROM table\"\n",
    "spark.sql(final_query).show()"
   ]
  },
  {
   "cell_type": "markdown",
   "metadata": {},
   "source": [
    "# Data Preprocessing"
   ]
  },
  {
   "cell_type": "code",
   "execution_count": 24,
   "metadata": {},
   "outputs": [
    {
     "name": "stdout",
     "output_type": "stream",
     "text": [
      "Number of NA values in RainTomorrow before filtering: 3267\n",
      "Number of records before fitering: 145460\n",
      "Number of NA values in RainTomorrow: 0\n",
      "Number of records: 142193\n"
     ]
    }
   ],
   "source": [
    "# Drop NA values in Rain Tomorrow \n",
    "print('Number of NA values in RainTomorrow before filtering:',df.filter(F.col(\"RainTomorrow\") == 'NA').count())\n",
    "print('Number of records before fitering:', df.count())\n",
    "df = df.filter(F.col('RainTomorrow') != 'NA')\n",
    "print('Number of NA values in RainTomorrow:',df.filter(F.col(\"RainTomorrow\") == 'NA').count())\n",
    "print('Number of records:', df.count())"
   ]
  },
  {
   "cell_type": "code",
   "execution_count": 25,
   "metadata": {},
   "outputs": [
    {
     "name": "stdout",
     "output_type": "stream",
     "text": [
      "root\n",
      " |-- Date: date (nullable = true)\n",
      " |-- Location: string (nullable = true)\n",
      " |-- MinTemp: string (nullable = true)\n",
      " |-- MaxTemp: string (nullable = true)\n",
      " |-- Rainfall: string (nullable = true)\n",
      " |-- Evaporation: string (nullable = true)\n",
      " |-- Sunshine: string (nullable = true)\n",
      " |-- WindGustDir: string (nullable = true)\n",
      " |-- WindGustSpeed: string (nullable = true)\n",
      " |-- WindDir9am: string (nullable = true)\n",
      " |-- WindDir3pm: string (nullable = true)\n",
      " |-- WindSpeed9am: string (nullable = true)\n",
      " |-- WindSpeed3pm: string (nullable = true)\n",
      " |-- Humidity9am: string (nullable = true)\n",
      " |-- Humidity3pm: string (nullable = true)\n",
      " |-- Pressure9am: string (nullable = true)\n",
      " |-- Pressure3pm: string (nullable = true)\n",
      " |-- Cloud9am: string (nullable = true)\n",
      " |-- Cloud3pm: string (nullable = true)\n",
      " |-- Temp9am: string (nullable = true)\n",
      " |-- Temp3pm: string (nullable = true)\n",
      " |-- RainToday: string (nullable = true)\n",
      " |-- RainTomorrow: string (nullable = true)\n",
      "\n"
     ]
    }
   ],
   "source": [
    "df.printSchema()"
   ]
  },
  {
   "cell_type": "code",
   "execution_count": 26,
   "metadata": {},
   "outputs": [],
   "source": [
    "# Convert string to double for some features\n",
    "numerical_columns = [\n",
    "    'MinTemp', 'MaxTemp', 'Rainfall', 'Evaporation', 'Sunshine', \n",
    "    'WindGustSpeed', 'WindSpeed9am', 'WindSpeed3pm', 'Humidity9am', \n",
    "    'Humidity3pm', 'Pressure9am', 'Pressure3pm', 'Cloud9am', \n",
    "    'Cloud3pm', 'Temp9am', 'Temp3pm'\n",
    "]\n",
    "\n",
    "categorical_columns = ['WindGustDir', 'WindDir9am', 'WindDir3pm', 'RainToday']\n",
    "\n",
    "# Convert 'NA' to null and to double type\n",
    "for col_name in numerical_columns:\n",
    "    df = df.withColumn(col_name, F.when(F.col(col_name) == 'NA', None).otherwise(F.col(col_name).cast(DoubleType())))\n",
    "\n",
    "for col_name in categorical_columns:\n",
    "    df = df.withColumn(col_name, F.when(F.col(col_name) == 'NA', None).otherwise(F.col(col_name)))\n"
   ]
  },
  {
   "cell_type": "code",
   "execution_count": 27,
   "metadata": {},
   "outputs": [
    {
     "name": "stdout",
     "output_type": "stream",
     "text": [
      "root\n",
      " |-- Date: date (nullable = true)\n",
      " |-- Location: string (nullable = true)\n",
      " |-- MinTemp: double (nullable = true)\n",
      " |-- MaxTemp: double (nullable = true)\n",
      " |-- Rainfall: double (nullable = true)\n",
      " |-- Evaporation: double (nullable = true)\n",
      " |-- Sunshine: double (nullable = true)\n",
      " |-- WindGustDir: string (nullable = true)\n",
      " |-- WindGustSpeed: double (nullable = true)\n",
      " |-- WindDir9am: string (nullable = true)\n",
      " |-- WindDir3pm: string (nullable = true)\n",
      " |-- WindSpeed9am: double (nullable = true)\n",
      " |-- WindSpeed3pm: double (nullable = true)\n",
      " |-- Humidity9am: double (nullable = true)\n",
      " |-- Humidity3pm: double (nullable = true)\n",
      " |-- Pressure9am: double (nullable = true)\n",
      " |-- Pressure3pm: double (nullable = true)\n",
      " |-- Cloud9am: double (nullable = true)\n",
      " |-- Cloud3pm: double (nullable = true)\n",
      " |-- Temp9am: double (nullable = true)\n",
      " |-- Temp3pm: double (nullable = true)\n",
      " |-- RainToday: string (nullable = true)\n",
      " |-- RainTomorrow: string (nullable = true)\n",
      "\n"
     ]
    }
   ],
   "source": [
    "df.printSchema()"
   ]
  },
  {
   "cell_type": "code",
   "execution_count": 28,
   "metadata": {},
   "outputs": [
    {
     "name": "stdout",
     "output_type": "stream",
     "text": [
      "+-------+--------+-----------------+-----------------+------------------+-----------------+-----------------+-----------+-----------------+----------+----------+-----------------+-----------------+------------------+------------------+------------------+------------------+------------------+-----------------+------------------+------------------+---------+------------+\n",
      "|summary|Location|          MinTemp|          MaxTemp|          Rainfall|      Evaporation|         Sunshine|WindGustDir|    WindGustSpeed|WindDir9am|WindDir3pm|     WindSpeed9am|     WindSpeed3pm|       Humidity9am|       Humidity3pm|       Pressure9am|       Pressure3pm|          Cloud9am|         Cloud3pm|           Temp9am|           Temp3pm|RainToday|RainTomorrow|\n",
      "+-------+--------+-----------------+-----------------+------------------+-----------------+-----------------+-----------+-----------------+----------+----------+-----------------+-----------------+------------------+------------------+------------------+------------------+------------------+-----------------+------------------+------------------+---------+------------+\n",
      "|  count|  142193|           141556|           141871|            140787|            81350|            74377|     132863|           132923|    132180|    138415|           140845|           139563|            140419|            138583|            128179|            128212|             88536|            85099|            141289|            139467|   140787|      142193|\n",
      "|   mean|    null|12.18639972872931|23.22678419127252|2.3499740743107234|5.469824216349106|7.624853113193661|       null|39.98429165757619|      null|      null|  14.001988000994|18.63757586179718|  68.8438103105705|51.482606091656265|1017.6537584159615|1015.2582035378855| 4.437189391885787|4.503166899728551| 16.98750858170126|21.687234973147845|     null|        null|\n",
      "| stddev|    null|6.403282674671352|7.117618141018135| 8.465172917616473|4.188536508895159|3.781524994214457|       null|13.58880076548774|      null|      null|8.893337098234479|8.803345036235555|19.051292535336195|20.797771843698833|  7.10547571152082| 7.036676783493336|2.8870155257335965|2.720632530403659|6.4928383254788855| 6.937593868533715|     null|        null|\n",
      "|    min|Adelaide|             -8.5|             -4.8|               0.0|              0.0|              0.0|          E|              6.0|         E|         E|              0.0|              0.0|               0.0|               0.0|             980.5|             977.1|               0.0|              0.0|              -7.2|              -5.4|       No|          No|\n",
      "|    max| Woomera|             33.9|             48.1|             371.0|            145.0|             14.5|        WSW|            135.0|       WSW|       WSW|            130.0|             87.0|             100.0|             100.0|            1041.0|            1039.6|               9.0|              9.0|              40.2|              46.7|      Yes|         Yes|\n",
      "+-------+--------+-----------------+-----------------+------------------+-----------------+-----------------+-----------+-----------------+----------+----------+-----------------+-----------------+------------------+------------------+------------------+------------------+------------------+-----------------+------------------+------------------+---------+------------+\n",
      "\n"
     ]
    }
   ],
   "source": [
    "df.describe().show()"
   ]
  },
  {
   "cell_type": "code",
   "execution_count": 56,
   "metadata": {},
   "outputs": [
    {
     "data": {
      "text/html": [
       "<div>\n",
       "<style scoped>\n",
       "    .dataframe tbody tr th:only-of-type {\n",
       "        vertical-align: middle;\n",
       "    }\n",
       "\n",
       "    .dataframe tbody tr th {\n",
       "        vertical-align: top;\n",
       "    }\n",
       "\n",
       "    .dataframe thead th {\n",
       "        text-align: right;\n",
       "    }\n",
       "</style>\n",
       "<table border=\"1\" class=\"dataframe\">\n",
       "  <thead>\n",
       "    <tr style=\"text-align: right;\">\n",
       "      <th></th>\n",
       "      <th>MinTemp</th>\n",
       "      <th>MaxTemp</th>\n",
       "      <th>Rainfall</th>\n",
       "      <th>Evaporation</th>\n",
       "      <th>Sunshine</th>\n",
       "      <th>WindGustSpeed</th>\n",
       "      <th>WindSpeed9am</th>\n",
       "      <th>WindSpeed3pm</th>\n",
       "      <th>Humidity9am</th>\n",
       "      <th>Humidity3pm</th>\n",
       "      <th>Pressure9am</th>\n",
       "      <th>Pressure3pm</th>\n",
       "      <th>Cloud9am</th>\n",
       "      <th>Cloud3pm</th>\n",
       "      <th>Temp9am</th>\n",
       "      <th>Temp3pm</th>\n",
       "    </tr>\n",
       "    <tr>\n",
       "      <th></th>\n",
       "      <th></th>\n",
       "      <th></th>\n",
       "      <th></th>\n",
       "      <th></th>\n",
       "      <th></th>\n",
       "      <th></th>\n",
       "      <th></th>\n",
       "      <th></th>\n",
       "      <th></th>\n",
       "      <th></th>\n",
       "      <th></th>\n",
       "      <th></th>\n",
       "      <th></th>\n",
       "      <th></th>\n",
       "      <th></th>\n",
       "      <th></th>\n",
       "    </tr>\n",
       "  </thead>\n",
       "  <tbody>\n",
       "    <tr>\n",
       "      <th>MinTemp</th>\n",
       "      <td>1.00</td>\n",
       "      <td>0.72</td>\n",
       "      <td>0.10</td>\n",
       "      <td>0.37</td>\n",
       "      <td>0.14</td>\n",
       "      <td>0.13</td>\n",
       "      <td>0.18</td>\n",
       "      <td>0.17</td>\n",
       "      <td>-0.18</td>\n",
       "      <td>-0.00</td>\n",
       "      <td>0.13</td>\n",
       "      <td>0.13</td>\n",
       "      <td>0.16</td>\n",
       "      <td>0.12</td>\n",
       "      <td>0.89</td>\n",
       "      <td>0.63</td>\n",
       "    </tr>\n",
       "    <tr>\n",
       "      <th>MaxTemp</th>\n",
       "      <td>0.72</td>\n",
       "      <td>1.00</td>\n",
       "      <td>-0.07</td>\n",
       "      <td>0.40</td>\n",
       "      <td>0.25</td>\n",
       "      <td>0.09</td>\n",
       "      <td>0.02</td>\n",
       "      <td>0.06</td>\n",
       "      <td>-0.43</td>\n",
       "      <td>-0.46</td>\n",
       "      <td>0.10</td>\n",
       "      <td>0.10</td>\n",
       "      <td>-0.11</td>\n",
       "      <td>-0.10</td>\n",
       "      <td>0.87</td>\n",
       "      <td>0.88</td>\n",
       "    </tr>\n",
       "    <tr>\n",
       "      <th>Rainfall</th>\n",
       "      <td>0.10</td>\n",
       "      <td>-0.07</td>\n",
       "      <td>1.00</td>\n",
       "      <td>-0.05</td>\n",
       "      <td>-0.10</td>\n",
       "      <td>0.09</td>\n",
       "      <td>0.08</td>\n",
       "      <td>0.05</td>\n",
       "      <td>0.20</td>\n",
       "      <td>0.23</td>\n",
       "      <td>-0.00</td>\n",
       "      <td>-0.00</td>\n",
       "      <td>0.15</td>\n",
       "      <td>0.13</td>\n",
       "      <td>0.01</td>\n",
       "      <td>-0.08</td>\n",
       "    </tr>\n",
       "    <tr>\n",
       "      <th>Evaporation</th>\n",
       "      <td>0.37</td>\n",
       "      <td>0.40</td>\n",
       "      <td>-0.05</td>\n",
       "      <td>1.00</td>\n",
       "      <td>0.51</td>\n",
       "      <td>0.13</td>\n",
       "      <td>0.17</td>\n",
       "      <td>0.13</td>\n",
       "      <td>-0.32</td>\n",
       "      <td>-0.25</td>\n",
       "      <td>0.23</td>\n",
       "      <td>0.23</td>\n",
       "      <td>0.16</td>\n",
       "      <td>0.17</td>\n",
       "      <td>0.40</td>\n",
       "      <td>0.37</td>\n",
       "    </tr>\n",
       "    <tr>\n",
       "      <th>Sunshine</th>\n",
       "      <td>0.14</td>\n",
       "      <td>0.25</td>\n",
       "      <td>-0.10</td>\n",
       "      <td>0.51</td>\n",
       "      <td>1.00</td>\n",
       "      <td>0.05</td>\n",
       "      <td>0.10</td>\n",
       "      <td>0.12</td>\n",
       "      <td>-0.25</td>\n",
       "      <td>-0.25</td>\n",
       "      <td>0.28</td>\n",
       "      <td>0.28</td>\n",
       "      <td>0.06</td>\n",
       "      <td>0.08</td>\n",
       "      <td>0.22</td>\n",
       "      <td>0.29</td>\n",
       "    </tr>\n",
       "    <tr>\n",
       "      <th>WindGustSpeed</th>\n",
       "      <td>0.13</td>\n",
       "      <td>0.09</td>\n",
       "      <td>0.09</td>\n",
       "      <td>0.13</td>\n",
       "      <td>0.05</td>\n",
       "      <td>1.00</td>\n",
       "      <td>0.53</td>\n",
       "      <td>0.61</td>\n",
       "      <td>-0.17</td>\n",
       "      <td>-0.00</td>\n",
       "      <td>0.18</td>\n",
       "      <td>0.18</td>\n",
       "      <td>0.01</td>\n",
       "      <td>0.06</td>\n",
       "      <td>0.12</td>\n",
       "      <td>0.11</td>\n",
       "    </tr>\n",
       "    <tr>\n",
       "      <th>WindSpeed9am</th>\n",
       "      <td>0.18</td>\n",
       "      <td>0.02</td>\n",
       "      <td>0.08</td>\n",
       "      <td>0.17</td>\n",
       "      <td>0.10</td>\n",
       "      <td>0.53</td>\n",
       "      <td>1.00</td>\n",
       "      <td>0.51</td>\n",
       "      <td>-0.22</td>\n",
       "      <td>-0.01</td>\n",
       "      <td>0.13</td>\n",
       "      <td>0.13</td>\n",
       "      <td>0.10</td>\n",
       "      <td>0.12</td>\n",
       "      <td>0.14</td>\n",
       "      <td>0.02</td>\n",
       "    </tr>\n",
       "    <tr>\n",
       "      <th>WindSpeed3pm</th>\n",
       "      <td>0.17</td>\n",
       "      <td>0.06</td>\n",
       "      <td>0.05</td>\n",
       "      <td>0.13</td>\n",
       "      <td>0.12</td>\n",
       "      <td>0.61</td>\n",
       "      <td>0.51</td>\n",
       "      <td>1.00</td>\n",
       "      <td>-0.12</td>\n",
       "      <td>0.08</td>\n",
       "      <td>0.20</td>\n",
       "      <td>0.21</td>\n",
       "      <td>0.09</td>\n",
       "      <td>0.10</td>\n",
       "      <td>0.16</td>\n",
       "      <td>0.11</td>\n",
       "    </tr>\n",
       "    <tr>\n",
       "      <th>Humidity9am</th>\n",
       "      <td>-0.18</td>\n",
       "      <td>-0.43</td>\n",
       "      <td>0.20</td>\n",
       "      <td>-0.32</td>\n",
       "      <td>-0.25</td>\n",
       "      <td>-0.17</td>\n",
       "      <td>-0.22</td>\n",
       "      <td>-0.12</td>\n",
       "      <td>1.00</td>\n",
       "      <td>0.61</td>\n",
       "      <td>-0.01</td>\n",
       "      <td>-0.01</td>\n",
       "      <td>0.24</td>\n",
       "      <td>0.16</td>\n",
       "      <td>-0.37</td>\n",
       "      <td>-0.39</td>\n",
       "    </tr>\n",
       "    <tr>\n",
       "      <th>Humidity3pm</th>\n",
       "      <td>-0.00</td>\n",
       "      <td>-0.46</td>\n",
       "      <td>0.23</td>\n",
       "      <td>-0.25</td>\n",
       "      <td>-0.25</td>\n",
       "      <td>-0.00</td>\n",
       "      <td>-0.01</td>\n",
       "      <td>0.08</td>\n",
       "      <td>0.61</td>\n",
       "      <td>1.00</td>\n",
       "      <td>0.02</td>\n",
       "      <td>0.02</td>\n",
       "      <td>0.27</td>\n",
       "      <td>0.31</td>\n",
       "      <td>-0.21</td>\n",
       "      <td>-0.35</td>\n",
       "    </tr>\n",
       "    <tr>\n",
       "      <th>Pressure9am</th>\n",
       "      <td>0.13</td>\n",
       "      <td>0.10</td>\n",
       "      <td>-0.00</td>\n",
       "      <td>0.23</td>\n",
       "      <td>0.28</td>\n",
       "      <td>0.18</td>\n",
       "      <td>0.13</td>\n",
       "      <td>0.20</td>\n",
       "      <td>-0.01</td>\n",
       "      <td>0.02</td>\n",
       "      <td>1.00</td>\n",
       "      <td>0.98</td>\n",
       "      <td>0.16</td>\n",
       "      <td>0.18</td>\n",
       "      <td>0.13</td>\n",
       "      <td>0.14</td>\n",
       "    </tr>\n",
       "    <tr>\n",
       "      <th>Pressure3pm</th>\n",
       "      <td>0.13</td>\n",
       "      <td>0.10</td>\n",
       "      <td>-0.00</td>\n",
       "      <td>0.23</td>\n",
       "      <td>0.28</td>\n",
       "      <td>0.18</td>\n",
       "      <td>0.13</td>\n",
       "      <td>0.21</td>\n",
       "      <td>-0.01</td>\n",
       "      <td>0.02</td>\n",
       "      <td>0.98</td>\n",
       "      <td>1.00</td>\n",
       "      <td>0.16</td>\n",
       "      <td>0.18</td>\n",
       "      <td>0.12</td>\n",
       "      <td>0.14</td>\n",
       "    </tr>\n",
       "    <tr>\n",
       "      <th>Cloud9am</th>\n",
       "      <td>0.16</td>\n",
       "      <td>-0.11</td>\n",
       "      <td>0.15</td>\n",
       "      <td>0.16</td>\n",
       "      <td>0.06</td>\n",
       "      <td>0.01</td>\n",
       "      <td>0.10</td>\n",
       "      <td>0.09</td>\n",
       "      <td>0.24</td>\n",
       "      <td>0.27</td>\n",
       "      <td>0.16</td>\n",
       "      <td>0.16</td>\n",
       "      <td>1.00</td>\n",
       "      <td>0.70</td>\n",
       "      <td>0.01</td>\n",
       "      <td>-0.12</td>\n",
       "    </tr>\n",
       "    <tr>\n",
       "      <th>Cloud3pm</th>\n",
       "      <td>0.12</td>\n",
       "      <td>-0.10</td>\n",
       "      <td>0.13</td>\n",
       "      <td>0.17</td>\n",
       "      <td>0.08</td>\n",
       "      <td>0.06</td>\n",
       "      <td>0.12</td>\n",
       "      <td>0.10</td>\n",
       "      <td>0.16</td>\n",
       "      <td>0.31</td>\n",
       "      <td>0.18</td>\n",
       "      <td>0.18</td>\n",
       "      <td>0.70</td>\n",
       "      <td>1.00</td>\n",
       "      <td>0.02</td>\n",
       "      <td>-0.06</td>\n",
       "    </tr>\n",
       "    <tr>\n",
       "      <th>Temp9am</th>\n",
       "      <td>0.89</td>\n",
       "      <td>0.87</td>\n",
       "      <td>0.01</td>\n",
       "      <td>0.40</td>\n",
       "      <td>0.22</td>\n",
       "      <td>0.12</td>\n",
       "      <td>0.14</td>\n",
       "      <td>0.16</td>\n",
       "      <td>-0.37</td>\n",
       "      <td>-0.21</td>\n",
       "      <td>0.13</td>\n",
       "      <td>0.12</td>\n",
       "      <td>0.01</td>\n",
       "      <td>0.02</td>\n",
       "      <td>1.00</td>\n",
       "      <td>0.76</td>\n",
       "    </tr>\n",
       "    <tr>\n",
       "      <th>Temp3pm</th>\n",
       "      <td>0.63</td>\n",
       "      <td>0.88</td>\n",
       "      <td>-0.08</td>\n",
       "      <td>0.37</td>\n",
       "      <td>0.29</td>\n",
       "      <td>0.11</td>\n",
       "      <td>0.02</td>\n",
       "      <td>0.11</td>\n",
       "      <td>-0.39</td>\n",
       "      <td>-0.35</td>\n",
       "      <td>0.14</td>\n",
       "      <td>0.14</td>\n",
       "      <td>-0.12</td>\n",
       "      <td>-0.06</td>\n",
       "      <td>0.76</td>\n",
       "      <td>1.00</td>\n",
       "    </tr>\n",
       "  </tbody>\n",
       "</table>\n",
       "</div>"
      ],
      "text/plain": [
       "               MinTemp  MaxTemp  Rainfall  Evaporation  Sunshine  \\\n",
       "                                                                   \n",
       "MinTemp           1.00     0.72      0.10         0.37      0.14   \n",
       "MaxTemp           0.72     1.00     -0.07         0.40      0.25   \n",
       "Rainfall          0.10    -0.07      1.00        -0.05     -0.10   \n",
       "Evaporation       0.37     0.40     -0.05         1.00      0.51   \n",
       "Sunshine          0.14     0.25     -0.10         0.51      1.00   \n",
       "WindGustSpeed     0.13     0.09      0.09         0.13      0.05   \n",
       "WindSpeed9am      0.18     0.02      0.08         0.17      0.10   \n",
       "WindSpeed3pm      0.17     0.06      0.05         0.13      0.12   \n",
       "Humidity9am      -0.18    -0.43      0.20        -0.32     -0.25   \n",
       "Humidity3pm      -0.00    -0.46      0.23        -0.25     -0.25   \n",
       "Pressure9am       0.13     0.10     -0.00         0.23      0.28   \n",
       "Pressure3pm       0.13     0.10     -0.00         0.23      0.28   \n",
       "Cloud9am          0.16    -0.11      0.15         0.16      0.06   \n",
       "Cloud3pm          0.12    -0.10      0.13         0.17      0.08   \n",
       "Temp9am           0.89     0.87      0.01         0.40      0.22   \n",
       "Temp3pm           0.63     0.88     -0.08         0.37      0.29   \n",
       "\n",
       "               WindGustSpeed  WindSpeed9am  WindSpeed3pm  Humidity9am  \\\n",
       "                                                                        \n",
       "MinTemp                 0.13          0.18          0.17        -0.18   \n",
       "MaxTemp                 0.09          0.02          0.06        -0.43   \n",
       "Rainfall                0.09          0.08          0.05         0.20   \n",
       "Evaporation             0.13          0.17          0.13        -0.32   \n",
       "Sunshine                0.05          0.10          0.12        -0.25   \n",
       "WindGustSpeed           1.00          0.53          0.61        -0.17   \n",
       "WindSpeed9am            0.53          1.00          0.51        -0.22   \n",
       "WindSpeed3pm            0.61          0.51          1.00        -0.12   \n",
       "Humidity9am            -0.17         -0.22         -0.12         1.00   \n",
       "Humidity3pm            -0.00         -0.01          0.08         0.61   \n",
       "Pressure9am             0.18          0.13          0.20        -0.01   \n",
       "Pressure3pm             0.18          0.13          0.21        -0.01   \n",
       "Cloud9am                0.01          0.10          0.09         0.24   \n",
       "Cloud3pm                0.06          0.12          0.10         0.16   \n",
       "Temp9am                 0.12          0.14          0.16        -0.37   \n",
       "Temp3pm                 0.11          0.02          0.11        -0.39   \n",
       "\n",
       "               Humidity3pm  Pressure9am  Pressure3pm  Cloud9am  Cloud3pm  \\\n",
       "                                                                           \n",
       "MinTemp              -0.00         0.13         0.13      0.16      0.12   \n",
       "MaxTemp              -0.46         0.10         0.10     -0.11     -0.10   \n",
       "Rainfall              0.23        -0.00        -0.00      0.15      0.13   \n",
       "Evaporation          -0.25         0.23         0.23      0.16      0.17   \n",
       "Sunshine             -0.25         0.28         0.28      0.06      0.08   \n",
       "WindGustSpeed        -0.00         0.18         0.18      0.01      0.06   \n",
       "WindSpeed9am         -0.01         0.13         0.13      0.10      0.12   \n",
       "WindSpeed3pm          0.08         0.20         0.21      0.09      0.10   \n",
       "Humidity9am           0.61        -0.01        -0.01      0.24      0.16   \n",
       "Humidity3pm           1.00         0.02         0.02      0.27      0.31   \n",
       "Pressure9am           0.02         1.00         0.98      0.16      0.18   \n",
       "Pressure3pm           0.02         0.98         1.00      0.16      0.18   \n",
       "Cloud9am              0.27         0.16         0.16      1.00      0.70   \n",
       "Cloud3pm              0.31         0.18         0.18      0.70      1.00   \n",
       "Temp9am              -0.21         0.13         0.12      0.01      0.02   \n",
       "Temp3pm              -0.35         0.14         0.14     -0.12     -0.06   \n",
       "\n",
       "               Temp9am  Temp3pm  \n",
       "                                 \n",
       "MinTemp           0.89     0.63  \n",
       "MaxTemp           0.87     0.88  \n",
       "Rainfall          0.01    -0.08  \n",
       "Evaporation       0.40     0.37  \n",
       "Sunshine          0.22     0.29  \n",
       "WindGustSpeed     0.12     0.11  \n",
       "WindSpeed9am      0.14     0.02  \n",
       "WindSpeed3pm      0.16     0.11  \n",
       "Humidity9am      -0.37    -0.39  \n",
       "Humidity3pm      -0.21    -0.35  \n",
       "Pressure9am       0.13     0.14  \n",
       "Pressure3pm       0.12     0.14  \n",
       "Cloud9am          0.01    -0.12  \n",
       "Cloud3pm          0.02    -0.06  \n",
       "Temp9am           1.00     0.76  \n",
       "Temp3pm           0.76     1.00  "
      ]
     },
     "execution_count": 56,
     "metadata": {},
     "output_type": "execute_result"
    }
   ],
   "source": [
    "# Correlation matrix\n",
    "columns = [\n",
    "    'MinTemp', 'MaxTemp', 'Rainfall', 'Evaporation', 'Sunshine', \n",
    "    'WindGustSpeed', 'WindSpeed9am', 'WindSpeed3pm', 'Humidity9am', \n",
    "    'Humidity3pm', 'Pressure9am', 'Pressure3pm', 'Cloud9am', \n",
    "    'Cloud3pm', 'Temp9am', 'Temp3pm'\n",
    "]\n",
    "corr_df = pd.DataFrame()\n",
    "for i in columns:\n",
    "    corr = []\n",
    "    for j in columns:\n",
    "        corr.append(round(df.stat.corr(i, j), 2))\n",
    "    corr_df = pd.concat([corr_df, pd.Series(corr)], axis=1)\n",
    "corr_df.columns = columns\n",
    "corr_df.insert(0, '', columns)\n",
    "corr_df.set_index('')"
   ]
  },
  {
   "cell_type": "code",
   "execution_count": 57,
   "metadata": {},
   "outputs": [
    {
     "data": {
      "image/png": "[encoded data removed]",
      "text/plain": [
       "<Figure size 1200x1000 with 2 Axes>"
      ]
     },
     "metadata": {},
     "output_type": "display_data"
    }
   ],
   "source": [
    "# Loại bỏ cột index phụ để đảm bảo dữ liệu tương thích với heatmap\n",
    "corr_df_numeric = corr_df.set_index('').astype(float)\n",
    "\n",
    "# Vẽ heatmap từ corr_df\n",
    "import seaborn as sns\n",
    "import matplotlib.pyplot as plt\n",
    "\n",
    "plt.figure(figsize=(12, 10))\n",
    "sns.heatmap(corr_df_numeric, annot=True, cmap='coolwarm', fmt=\".2f\", cbar=True)\n",
    "\n",
    "# Thiết lập tiêu đề\n",
    "plt.title(\"Heatmap of Correlation Matrix\", fontsize=16)\n",
    "plt.show()\n"
   ]
  },
  {
   "cell_type": "code",
   "execution_count": 30,
   "metadata": {},
   "outputs": [
    {
     "name": "stdout",
     "output_type": "stream",
     "text": [
      "+----+--------+-------+-------+--------+-----------+--------+-----------+-------------+----------+----------+------------+------------+-----------+-----------+-----------+-----------+--------+--------+-------+-------+---------+------------+\n",
      "|Date|Location|MinTemp|MaxTemp|Rainfall|Evaporation|Sunshine|WindGustDir|WindGustSpeed|WindDir9am|WindDir3pm|WindSpeed9am|WindSpeed3pm|Humidity9am|Humidity3pm|Pressure9am|Pressure3pm|Cloud9am|Cloud3pm|Temp9am|Temp3pm|RainToday|RainTomorrow|\n",
      "+----+--------+-------+-------+--------+-----------+--------+-----------+-------------+----------+----------+------------+------------+-----------+-----------+-----------+-----------+--------+--------+-------+-------+---------+------------+\n",
      "|   0|       0|      0|      0|       0|          0|       0|          0|            0|         0|         0|           0|           0|          0|          0|          0|          0|       0|       0|      0|      0|        0|           0|\n",
      "+----+--------+-------+-------+--------+-----------+--------+-----------+-------------+----------+----------+------------+------------+-----------+-----------+-----------+-----------+--------+--------+-------+-------+---------+------------+\n",
      "\n"
     ]
    }
   ],
   "source": [
    "# Display NA values\n",
    "df.select([F.count(F.when(F.col(c) == 'NA', c)).alias(c) for c in df.columns]).show()"
   ]
  },
  {
   "cell_type": "code",
   "execution_count": 31,
   "metadata": {},
   "outputs": [
    {
     "name": "stdout",
     "output_type": "stream",
     "text": [
      "+----+--------+-------+-------+--------+-----------+--------+-----------+-------------+----------+----------+------------+------------+-----------+-----------+-----------+-----------+--------+--------+-------+-------+---------+------------+\n",
      "|Date|Location|MinTemp|MaxTemp|Rainfall|Evaporation|Sunshine|WindGustDir|WindGustSpeed|WindDir9am|WindDir3pm|WindSpeed9am|WindSpeed3pm|Humidity9am|Humidity3pm|Pressure9am|Pressure3pm|Cloud9am|Cloud3pm|Temp9am|Temp3pm|RainToday|RainTomorrow|\n",
      "+----+--------+-------+-------+--------+-----------+--------+-----------+-------------+----------+----------+------------+------------+-----------+-----------+-----------+-----------+--------+--------+-------+-------+---------+------------+\n",
      "|   0|       0|    637|    322|    1406|      60843|   67816|       9330|         9270|     10013|      3778|        1348|        2630|       1774|       3610|      14014|      13981|   53657|   57094|    904|   2726|     1406|           0|\n",
      "+----+--------+-------+-------+--------+-----------+--------+-----------+-------------+----------+----------+------------+------------+-----------+-----------+-----------+-----------+--------+--------+-------+-------+---------+------------+\n",
      "\n"
     ]
    }
   ],
   "source": [
    "# Dispaly null values\n",
    "df.select([F.count(F.when(F.col(c).isNull(), c)).alias(c) for c in df.columns]).show()"
   ]
  },
  {
   "cell_type": "code",
   "execution_count": 32,
   "metadata": {},
   "outputs": [
    {
     "data": {
      "text/plain": [
       "12.18639972872931"
      ]
     },
     "execution_count": 32,
     "metadata": {},
     "output_type": "execute_result"
    }
   ],
   "source": [
    "# get mean value of column\n",
    "mean = df.select([F.mean(df['MinTemp'])]).collect()[0][0]\n",
    "mean"
   ]
  },
  {
   "cell_type": "code",
   "execution_count": 33,
   "metadata": {},
   "outputs": [],
   "source": [
    "# fill null values for LoanAmount\n",
    "df = df.na.fill(mean, ['MinTemp'])"
   ]
  },
  {
   "cell_type": "code",
   "execution_count": 34,
   "metadata": {},
   "outputs": [
    {
     "data": {
      "text/plain": [
       "'W'"
      ]
     },
     "execution_count": 34,
     "metadata": {},
     "output_type": "execute_result"
    }
   ],
   "source": [
    "# get mode value of column\n",
    "# return the gender with the highest count\n",
    "df.groupBy('WindGustDir').count().orderBy('count', ascending=False).first()[0]"
   ]
  },
  {
   "cell_type": "markdown",
   "metadata": {},
   "source": [
    "--> That is how we fill the value for numerical values and categorial values. Now we do the same thing with other features."
   ]
  },
  {
   "cell_type": "code",
   "execution_count": 29,
   "metadata": {},
   "outputs": [],
   "source": [
    "numerical_cols = [\n",
    "    'MinTemp', 'MaxTemp', 'Rainfall', 'Evaporation', 'Sunshine', \n",
    "    'WindGustSpeed', 'WindSpeed9am', 'WindSpeed3pm', 'Humidity9am', \n",
    "    'Humidity3pm', 'Pressure9am', 'Pressure3pm', 'Cloud9am', \n",
    "    'Cloud3pm', 'Temp9am', 'Temp3pm'\n",
    "]\n",
    "\n",
    "categorical_cols = ['WindGustDir', 'WindDir9am', 'WindDir3pm', 'RainToday']"
   ]
  },
  {
   "cell_type": "code",
   "execution_count": 30,
   "metadata": {},
   "outputs": [],
   "source": [
    "# fill null values for numerical columns\n",
    "for col in numerical_cols:\n",
    "    mean = df.select(F.mean(df[col])).collect()[0][0]\n",
    "    df = df.na.fill(mean, [col])"
   ]
  },
  {
   "cell_type": "code",
   "execution_count": 31,
   "metadata": {},
   "outputs": [],
   "source": [
    "# fill null values for categorial columns\n",
    "for col in categorical_cols:\n",
    "    mode = df.groupBy(col).count().orderBy('count', ascending=False).first()[0]\n",
    "    df = df.na.fill(mode, [col])"
   ]
  },
  {
   "cell_type": "code",
   "execution_count": 32,
   "metadata": {},
   "outputs": [
    {
     "name": "stdout",
     "output_type": "stream",
     "text": [
      "+----+--------+-------+-------+--------+-----------+--------+-----------+-------------+----------+----------+------------+------------+-----------+-----------+-----------+-----------+--------+--------+-------+-------+---------+------------+\n",
      "|Date|Location|MinTemp|MaxTemp|Rainfall|Evaporation|Sunshine|WindGustDir|WindGustSpeed|WindDir9am|WindDir3pm|WindSpeed9am|WindSpeed3pm|Humidity9am|Humidity3pm|Pressure9am|Pressure3pm|Cloud9am|Cloud3pm|Temp9am|Temp3pm|RainToday|RainTomorrow|\n",
      "+----+--------+-------+-------+--------+-----------+--------+-----------+-------------+----------+----------+------------+------------+-----------+-----------+-----------+-----------+--------+--------+-------+-------+---------+------------+\n",
      "|   0|       0|      0|      0|       0|          0|       0|          0|            0|         0|         0|           0|           0|          0|          0|          0|          0|       0|       0|      0|      0|        0|           0|\n",
      "+----+--------+-------+-------+--------+-----------+--------+-----------+-------------+----------+----------+------------+------------+-----------+-----------+-----------+-----------+--------+--------+-------+-------+---------+------------+\n",
      "\n"
     ]
    }
   ],
   "source": [
    "df.select([F.count(F.when(F.col(c).isNull(), c)).alias(c) for c in df.columns]).show()"
   ]
  },
  {
   "cell_type": "code",
   "execution_count": 33,
   "metadata": {},
   "outputs": [
    {
     "name": "stdout",
     "output_type": "stream",
     "text": [
      "+----------+--------+-------+-------+--------+-----------------+-----------------+-----------+-------------+----------+----------+------------+------------+-----------+-----------+-----------+-----------+-----------------+-----------------+-------+-------+---------+------------+\n",
      "|      Date|Location|MinTemp|MaxTemp|Rainfall|      Evaporation|         Sunshine|WindGustDir|WindGustSpeed|WindDir9am|WindDir3pm|WindSpeed9am|WindSpeed3pm|Humidity9am|Humidity3pm|Pressure9am|Pressure3pm|         Cloud9am|         Cloud3pm|Temp9am|Temp3pm|RainToday|RainTomorrow|\n",
      "+----------+--------+-------+-------+--------+-----------------+-----------------+-----------+-------------+----------+----------+------------+------------+-----------+-----------+-----------+-----------+-----------------+-----------------+-------+-------+---------+------------+\n",
      "|2008-12-01|  Albury|   13.4|   22.9|     0.6|5.469824216349106|7.624853113193661|          W|         44.0|         W|       WNW|        20.0|        24.0|       71.0|       22.0|     1007.7|     1007.1|              8.0|4.503166899728551|   16.9|   21.8|       No|           0|\n",
      "|2008-12-02|  Albury|    7.4|   25.1|     0.0|5.469824216349106|7.624853113193661|        WNW|         44.0|       NNW|       WSW|         4.0|        22.0|       44.0|       25.0|     1010.6|     1007.8|4.437189391885787|4.503166899728551|   17.2|   24.3|       No|           0|\n",
      "+----------+--------+-------+-------+--------+-----------------+-----------------+-----------+-------------+----------+----------+------------+------------+-----------+-----------+-----------+-----------+-----------------+-----------------+-------+-------+---------+------------+\n",
      "only showing top 2 rows\n",
      "\n"
     ]
    }
   ],
   "source": [
    "# Replacing Y -> 1, N -> 0 in Loan_Status\n",
    "df = df.withColumn('RainTomorrow', F.when(df['RainTomorrow'] == 'Yes', 1).otherwise(0))\n",
    "df.show(2)"
   ]
  },
  {
   "cell_type": "markdown",
   "metadata": {},
   "source": [
    "# Feature engineering"
   ]
  },
  {
   "cell_type": "markdown",
   "metadata": {},
   "source": [
    "-> transforming raw data into meaningful features that can improve the performance of a machine learning model"
   ]
  },
  {
   "cell_type": "code",
   "execution_count": 40,
   "metadata": {},
   "outputs": [
    {
     "name": "stdout",
     "output_type": "stream",
     "text": [
      "root\n",
      " |-- Date: date (nullable = true)\n",
      " |-- Location: string (nullable = true)\n",
      " |-- MinTemp: double (nullable = false)\n",
      " |-- MaxTemp: double (nullable = false)\n",
      " |-- Rainfall: double (nullable = false)\n",
      " |-- Evaporation: double (nullable = false)\n",
      " |-- Sunshine: double (nullable = false)\n",
      " |-- WindGustDir: string (nullable = false)\n",
      " |-- WindGustSpeed: double (nullable = false)\n",
      " |-- WindDir9am: string (nullable = false)\n",
      " |-- WindDir3pm: string (nullable = false)\n",
      " |-- WindSpeed9am: double (nullable = false)\n",
      " |-- WindSpeed3pm: double (nullable = false)\n",
      " |-- Humidity9am: double (nullable = false)\n",
      " |-- Humidity3pm: double (nullable = false)\n",
      " |-- Pressure9am: double (nullable = false)\n",
      " |-- Pressure3pm: double (nullable = false)\n",
      " |-- Cloud9am: double (nullable = false)\n",
      " |-- Cloud3pm: double (nullable = false)\n",
      " |-- Temp9am: double (nullable = false)\n",
      " |-- Temp3pm: double (nullable = false)\n",
      " |-- RainToday: string (nullable = false)\n",
      " |-- RainTomorrow: integer (nullable = false)\n",
      "\n"
     ]
    }
   ],
   "source": [
    "df.printSchema()"
   ]
  },
  {
   "cell_type": "markdown",
   "metadata": {},
   "source": [
    "##### Performing feature engineering workflow using pyspark.ml to handle categorical and numerical columns"
   ]
  },
  {
   "cell_type": "code",
   "execution_count": 41,
   "metadata": {},
   "outputs": [],
   "source": [
    "numerical_cols = [\n",
    "    'MinTemp', 'MaxTemp', 'Rainfall', 'Evaporation', 'Sunshine', \n",
    "    'WindGustSpeed', 'WindSpeed9am', 'WindSpeed3pm', 'Humidity9am', \n",
    "    'Humidity3pm', 'Pressure9am', 'Pressure3pm', 'Cloud9am', \n",
    "    'Cloud3pm', 'Temp9am', 'Temp3pm'\n",
    "]\n",
    "\n",
    "categorical_cols = ['WindGustDir', 'WindDir9am', 'WindDir3pm', 'RainToday', 'Location']\n",
    "\n",
    "# Index the string columns\n",
    "# --> Creating transformers to transfer categorical value to numerical values\n",
    "indexers = [StringIndexer(inputCol=col, outputCol=\"{0}_index\".format(col)) for col in categorical_columns]\n",
    "\n",
    "# encode the indexed values\n",
    "# --> Creating transformers to transfer indexed values to one hot encoder\n",
    "encoders = [OneHotEncoder(dropLast=False, inputCol=indexer.getOutputCol(), outputCol=\"{0}_encoded\".format(indexer.getOutputCol())) for indexer in indexers]\n",
    "\n",
    "input_columns = [encoder.getOutputCol() for encoder in encoders] + numerical_columns\n",
    "\n",
    "# vetorize the encoded values\n",
    "# To combine columns into one columns (vetor form)\n",
    "assembler = VectorAssembler(inputCols=input_columns, outputCol=\"feature\")\n"
   ]
  },
  {
   "cell_type": "code",
   "execution_count": 42,
   "metadata": {},
   "outputs": [],
   "source": [
    "# Create the pipeline to transform the data\n",
    "pipeline = Pipeline(stages=indexers+encoders+[assembler])"
   ]
  },
  {
   "cell_type": "code",
   "execution_count": 43,
   "metadata": {},
   "outputs": [],
   "source": [
    "data_model = pipeline.fit(df)"
   ]
  },
  {
   "cell_type": "code",
   "execution_count": 44,
   "metadata": {},
   "outputs": [],
   "source": [
    "# -> creating preprocessed df (indexer + encoder + [assembler])\n",
    "transformed_df = data_model.transform(df)"
   ]
  },
  {
   "cell_type": "code",
   "execution_count": 45,
   "metadata": {},
   "outputs": [
    {
     "name": "stdout",
     "output_type": "stream",
     "text": [
      "+----------+--------+-------+-------+--------+-----------------+-----------------+-----------+-------------+----------+----------+------------+------------+-----------+-----------+-----------+-----------+--------+-----------------+-------+-------+---------+------------+-----------------+----------------+----------------+---------------+-------------------------+------------------------+------------------------+-----------------------+--------------------+\n",
      "|      Date|Location|MinTemp|MaxTemp|Rainfall|      Evaporation|         Sunshine|WindGustDir|WindGustSpeed|WindDir9am|WindDir3pm|WindSpeed9am|WindSpeed3pm|Humidity9am|Humidity3pm|Pressure9am|Pressure3pm|Cloud9am|         Cloud3pm|Temp9am|Temp3pm|RainToday|RainTomorrow|WindGustDir_index|WindDir9am_index|WindDir3pm_index|RainToday_index|WindGustDir_index_encoded|WindDir9am_index_encoded|WindDir3pm_index_encoded|RainToday_index_encoded|             feature|\n",
      "+----------+--------+-------+-------+--------+-----------------+-----------------+-----------+-------------+----------+----------+------------+------------+-----------+-----------+-----------+-----------+--------+-----------------+-------+-------+---------+------------+-----------------+----------------+----------------+---------------+-------------------------+------------------------+------------------------+-----------------------+--------------------+\n",
      "|2008-12-01|  Albury|   13.4|   22.9|     0.6|5.469824216349106|7.624853113193661|          W|         44.0|         W|       WNW|        20.0|        24.0|       71.0|       22.0|     1007.7|     1007.1|     8.0|4.503166899728551|   16.9|   21.8|       No|           0|              0.0|             6.0|             7.0|            0.0|           (16,[0],[1.0])|          (16,[6],[1.0])|          (16,[7],[1.0])|          (2,[0],[1.0])|(66,[0,22,39,48,5...|\n",
      "+----------+--------+-------+-------+--------+-----------------+-----------------+-----------+-------------+----------+----------+------------+------------+-----------+-----------+-----------+-----------+--------+-----------------+-------+-------+---------+------------+-----------------+----------------+----------------+---------------+-------------------------+------------------------+------------------------+-----------------------+--------------------+\n",
      "only showing top 1 row\n",
      "\n"
     ]
    }
   ],
   "source": [
    "transformed_df.show(1)"
   ]
  },
  {
   "cell_type": "code",
   "execution_count": 46,
   "metadata": {},
   "outputs": [],
   "source": [
    "# get input features and output columns\n",
    "transformed_df = transformed_df.select(['feature', 'RainTomorrow'])"
   ]
  },
  {
   "cell_type": "code",
   "execution_count": 47,
   "metadata": {},
   "outputs": [],
   "source": [
    "# split the data for train and test\n",
    "train_data, test_data = transformed_df.randomSplit([0.8, 0.2], seed=42)"
   ]
  },
  {
   "cell_type": "code",
   "execution_count": 48,
   "metadata": {},
   "outputs": [
    {
     "name": "stdout",
     "output_type": "stream",
     "text": [
      "113916\n",
      "28277\n"
     ]
    }
   ],
   "source": [
    "print(train_data.count())\n",
    "print(test_data.count())"
   ]
  },
  {
   "cell_type": "markdown",
   "metadata": {},
   "source": [
    "# Classifier model"
   ]
  },
  {
   "cell_type": "markdown",
   "metadata": {},
   "source": [
    "## Logistic Regression"
   ]
  },
  {
   "cell_type": "code",
   "execution_count": 49,
   "metadata": {},
   "outputs": [],
   "source": [
    "lr = LogisticRegression(featuresCol='feature', labelCol='RainTomorrow')\n",
    "lr_model = lr.fit(train_data)"
   ]
  },
  {
   "cell_type": "code",
   "execution_count": 50,
   "metadata": {},
   "outputs": [
    {
     "name": "stdout",
     "output_type": "stream",
     "text": [
      "+--------------------+------------+--------------------+--------------------+----------+\n",
      "|             feature|RainTomorrow|       rawPrediction|         probability|prediction|\n",
      "+--------------------+------------+--------------------+--------------------+----------+\n",
      "|(66,[0,16,32,48,5...|           0|[2.15883035378983...|[0.89649106173479...|       0.0|\n",
      "|(66,[0,16,32,48,5...|           0|[2.12743987450340...|[0.89354172185722...|       0.0|\n",
      "|(66,[0,16,32,48,5...|           0|[2.82998172444348...|[0.94427464041855...|       0.0|\n",
      "|(66,[0,16,32,48,5...|           0|[3.22206369574399...|[0.96165618286541...|       0.0|\n",
      "|(66,[0,16,32,48,5...|           1|[1.10866593682980...|[0.75188031718061...|       0.0|\n",
      "+--------------------+------------+--------------------+--------------------+----------+\n",
      "only showing top 5 rows\n",
      "\n"
     ]
    }
   ],
   "source": [
    "# predict on test data\n",
    "predictions = lr_model.transform(test_data)\n",
    "predictions.show(5)"
   ]
  },
  {
   "cell_type": "code",
   "execution_count": 51,
   "metadata": {},
   "outputs": [
    {
     "name": "stdout",
     "output_type": "stream",
     "text": [
      "AUC: 0.8658362902441736\n"
     ]
    }
   ],
   "source": [
    "predictions = lr_model.transform(test_data)\n",
    "auc_lr = BinaryClassificationEvaluator().setLabelCol('RainTomorrow')\n",
    "print('AUC:', str(auc_lr.evaluate(predictions)))"
   ]
  },
  {
   "cell_type": "markdown",
   "metadata": {},
   "source": [
    "## Random Forest "
   ]
  },
  {
   "cell_type": "code",
   "execution_count": 52,
   "metadata": {},
   "outputs": [],
   "source": [
    "rf = RandomForestClassifier(featuresCol='feature', labelCol='RainTomorrow')\n",
    "rf_model = rf.fit(train_data)"
   ]
  },
  {
   "cell_type": "code",
   "execution_count": 53,
   "metadata": {},
   "outputs": [
    {
     "name": "stdout",
     "output_type": "stream",
     "text": [
      "+--------------------+------------+--------------------+--------------------+----------+\n",
      "|             feature|RainTomorrow|       rawPrediction|         probability|prediction|\n",
      "+--------------------+------------+--------------------+--------------------+----------+\n",
      "|(66,[0,16,32,48,5...|           0|[17.4248624114906...|[0.87124312057453...|       0.0|\n",
      "|(66,[0,16,32,48,5...|           0|[17.5287071156412...|[0.87643535578206...|       0.0|\n",
      "|(66,[0,16,32,48,5...|           0|[16.7817576388486...|[0.83908788194243...|       0.0|\n",
      "|(66,[0,16,32,48,5...|           0|[17.2385780431057...|[0.86192890215528...|       0.0|\n",
      "|(66,[0,16,32,48,5...|           1|[17.3029908651041...|[0.86514954325520...|       0.0|\n",
      "+--------------------+------------+--------------------+--------------------+----------+\n",
      "only showing top 5 rows\n",
      "\n"
     ]
    }
   ],
   "source": [
    "# predict on test data\n",
    "rf_predictions = rf_model.transform(test_data)\n",
    "rf_predictions.show(5)"
   ]
  },
  {
   "cell_type": "code",
   "execution_count": 54,
   "metadata": {},
   "outputs": [
    {
     "name": "stdout",
     "output_type": "stream",
     "text": [
      "AUC: 0.8343492874590556\n"
     ]
    }
   ],
   "source": [
    "auc_rf = BinaryClassificationEvaluator().setLabelCol('RainTomorrow')\n",
    "print('AUC:', str(auc_rf.evaluate(rf_predictions)))"
   ]
  },
  {
   "cell_type": "markdown",
   "metadata": {},
   "source": [
    "## Decision Tree"
   ]
  },
  {
   "cell_type": "code",
   "execution_count": 55,
   "metadata": {},
   "outputs": [],
   "source": [
    "dct = DecisionTreeClassifier(featuresCol='feature', labelCol='RainTomorrow')\n",
    "dct_model = dct.fit(train_data)"
   ]
  },
  {
   "cell_type": "code",
   "execution_count": 56,
   "metadata": {},
   "outputs": [
    {
     "name": "stdout",
     "output_type": "stream",
     "text": [
      "+--------------------+------------+----------------+--------------------+----------+\n",
      "|             feature|RainTomorrow|   rawPrediction|         probability|prediction|\n",
      "+--------------------+------------+----------------+--------------------+----------+\n",
      "|(66,[0,16,32,48,5...|           0|[68452.0,8390.0]|[0.89081491892454...|       0.0|\n",
      "|(66,[0,16,32,48,5...|           0|[68452.0,8390.0]|[0.89081491892454...|       0.0|\n",
      "|(66,[0,16,32,48,5...|           0|  [3510.0,417.0]|[0.89381207028265...|       0.0|\n",
      "|(66,[0,16,32,48,5...|           0|[68452.0,8390.0]|[0.89081491892454...|       0.0|\n",
      "|(66,[0,16,32,48,5...|           1|[68452.0,8390.0]|[0.89081491892454...|       0.0|\n",
      "+--------------------+------------+----------------+--------------------+----------+\n",
      "only showing top 5 rows\n",
      "\n"
     ]
    }
   ],
   "source": [
    "# predict on test data\n",
    "dct_predictions = dct_model.transform(test_data)\n",
    "dct_predictions.show(5)"
   ]
  },
  {
   "cell_type": "code",
   "execution_count": 57,
   "metadata": {},
   "outputs": [
    {
     "name": "stdout",
     "output_type": "stream",
     "text": [
      "AUC: 0.2962401380140286\n"
     ]
    }
   ],
   "source": [
    "auc_dct = BinaryClassificationEvaluator().setLabelCol('RainTomorrow')\n",
    "print('AUC:', str(auc_dct.evaluate(dct_predictions)))"
   ]
  },
  {
   "cell_type": "markdown",
   "metadata": {},
   "source": [
    "## Gradient-Boosted Trees"
   ]
  },
  {
   "cell_type": "code",
   "execution_count": 58,
   "metadata": {},
   "outputs": [],
   "source": [
    "gbt = GBTClassifier(featuresCol='feature', labelCol='RainTomorrow')\n",
    "gbt_model = gbt.fit(train_data)"
   ]
  },
  {
   "cell_type": "code",
   "execution_count": 59,
   "metadata": {},
   "outputs": [
    {
     "name": "stdout",
     "output_type": "stream",
     "text": [
      "+--------------------+------------+--------------------+--------------------+----------+\n",
      "|             feature|RainTomorrow|       rawPrediction|         probability|prediction|\n",
      "+--------------------+------------+--------------------+--------------------+----------+\n",
      "|(66,[0,16,32,48,5...|           0|[0.88091328803768...|[0.85343827838915...|       0.0|\n",
      "|(66,[0,16,32,48,5...|           0|[1.01544432149580...|[0.88400223251396...|       0.0|\n",
      "|(66,[0,16,32,48,5...|           0|[1.12998708255215...|[0.90550742054291...|       0.0|\n",
      "|(66,[0,16,32,48,5...|           0|[1.18989642696595...|[0.91527337188224...|       0.0|\n",
      "|(66,[0,16,32,48,5...|           1|[0.67588530068588...|[0.79441894910443...|       0.0|\n",
      "+--------------------+------------+--------------------+--------------------+----------+\n",
      "only showing top 5 rows\n",
      "\n"
     ]
    }
   ],
   "source": [
    "# predict on test data\n",
    "gbt_predictions = gbt_model.transform(test_data)\n",
    "gbt_predictions.show(5)"
   ]
  },
  {
   "cell_type": "code",
   "execution_count": 60,
   "metadata": {},
   "outputs": [
    {
     "name": "stdout",
     "output_type": "stream",
     "text": [
      "AUC: 0.8668494301421926\n"
     ]
    }
   ],
   "source": [
    "auc_gbt = BinaryClassificationEvaluator().setLabelCol('RainTomorrow')\n",
    "print('AUC:', str(auc_gbt.evaluate(gbt_predictions)))"
   ]
  },
  {
   "cell_type": "markdown",
   "metadata": {},
   "source": [
    "## Multilayer perceptron \n"
   ]
  },
  {
   "cell_type": "code",
   "execution_count": 79,
   "metadata": {},
   "outputs": [],
   "source": [
    "mlp = MultilayerPerceptronClassifier(layers=[66, 5, 4, 2], labelCol=\"RainTomorrow\", featuresCol=\"feature\", maxIter=100)\n",
    "mlp_model = mlp.fit(train_data)"
   ]
  },
  {
   "cell_type": "code",
   "execution_count": 80,
   "metadata": {},
   "outputs": [
    {
     "name": "stdout",
     "output_type": "stream",
     "text": [
      "+--------------------+------------+--------------------+--------------------+----------+\n",
      "|             feature|RainTomorrow|       rawPrediction|         probability|prediction|\n",
      "+--------------------+------------+--------------------+--------------------+----------+\n",
      "|(66,[0,16,32,48,5...|           0|[1.77762587744446...|[0.90688254569604...|       0.0|\n",
      "|(66,[0,16,32,48,5...|           0|[1.77762525106920...|[0.90688246230023...|       0.0|\n",
      "|(66,[0,16,32,48,5...|           0|[1.77762715808599...|[0.90688271620085...|       0.0|\n",
      "|(66,[0,16,32,48,5...|           0|[1.77762708351055...|[0.90688270627188...|       0.0|\n",
      "|(66,[0,16,32,48,5...|           1|[1.74216867640650...|[0.90205067156600...|       0.0|\n",
      "+--------------------+------------+--------------------+--------------------+----------+\n",
      "only showing top 5 rows\n",
      "\n"
     ]
    }
   ],
   "source": [
    "# predict on test data\n",
    "mlp_predictions = mlp_model.transform(test_data)\n",
    "mlp_predictions.show(5)"
   ]
  },
  {
   "cell_type": "code",
   "execution_count": 81,
   "metadata": {},
   "outputs": [
    {
     "name": "stdout",
     "output_type": "stream",
     "text": [
      "AUC: 0.8517281365697023\n"
     ]
    }
   ],
   "source": [
    "auc_mlp = BinaryClassificationEvaluator().setLabelCol('RainTomorrow')\n",
    "print('AUC:', str(auc_mlp.evaluate(mlp_predictions)))"
   ]
  },
  {
   "cell_type": "code",
   "execution_count": null,
   "metadata": {},
   "outputs": [],
   "source": []
  }
 ],
 "metadata": {
  "kernelspec": {
   "display_name": "bdenv",
   "language": "python",
   "name": "python3"
  },
  "language_info": {
   "codemirror_mode": {
    "name": "ipython",
    "version": 3
   },
   "file_extension": ".py",
   "mimetype": "text/x-python",
   "name": "python",
   "nbconvert_exporter": "python",
   "pygments_lexer": "ipython3",
   "version": "3.10.15"
  }
 },
 "nbformat": 4,
 "nbformat_minor": 2
}
